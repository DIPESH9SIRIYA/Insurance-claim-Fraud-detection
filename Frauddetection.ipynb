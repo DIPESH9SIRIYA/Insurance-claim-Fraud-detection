{
  "cells": [
    {
      "cell_type": "markdown",
      "source": [
        "**Fraud Detection in Insurance Claims Detect fraudulent insurance claims using machine learning. Implement a fraud detection model using decision trees or neural networks. Set up a database to store claim data. Create a web interface to input claim data and display fraud detection results. Use the Insurance Company Benchmark (COIL 2000) Dataset.**"
      ],
      "metadata": {
        "id": "CH_aTg1xLy8l"
      }
    },
    {
      "cell_type": "code",
      "execution_count": 1,
      "metadata": {
        "colab": {
          "base_uri": "https://localhost:8080/"
        },
        "id": "2kT27z_3KhQF",
        "outputId": "45eea085-f3a5-49fb-cc6b-9713c8b9ccb2"
      },
      "outputs": [
        {
          "output_type": "stream",
          "name": "stdout",
          "text": [
            "Mounted at /content/drive\n"
          ]
        }
      ],
      "source": [
        "from google.colab import drive\n",
        "drive.mount('/content/drive')\n"
      ]
    },
    {
      "cell_type": "markdown",
      "source": [
        "####Importing libraries and loading data set"
      ],
      "metadata": {
        "id": "wUti_ymwMTHv"
      }
    },
    {
      "cell_type": "code",
      "execution_count": 2,
      "metadata": {
        "colab": {
          "base_uri": "https://localhost:8080/"
        },
        "id": "TeJSL7Ec8q3l",
        "outputId": "2a1e4b8f-dc30-485a-fc4c-3c0e2a2b9262"
      },
      "outputs": [
        {
          "output_type": "stream",
          "name": "stdout",
          "text": [
            "   MOSTYPE  MAANTHUI  MGEMOMV  MGEMLEEF  MOSHOOFD  MGODRK  MGODPR  MGODOV  \\\n",
            "0       33         1        3         2         8       0       5       1   \n",
            "1       37         1        2         2         8       1       4       1   \n",
            "2       37         1        2         2         8       0       4       2   \n",
            "3        9         1        3         3         3       2       3       2   \n",
            "4       40         1        4         2        10       1       4       1   \n",
            "\n",
            "   MGODGE  MRELGE  ...  AGEZONG  AWAOREG  ABRAND  AZEILPL  APLEZIER  AFIETS  \\\n",
            "0       3       7  ...        0        0       1        0         0       0   \n",
            "1       4       6  ...        0        0       1        0         0       0   \n",
            "2       4       3  ...        0        0       1        0         0       0   \n",
            "3       4       5  ...        0        0       1        0         0       0   \n",
            "4       4       7  ...        0        0       1        0         0       0   \n",
            "\n",
            "   AINBOED  ABYSTAND  CARAVAN  fraud  \n",
            "0        0         0        0      0  \n",
            "1        0         0        0      1  \n",
            "2        0         0        0      0  \n",
            "3        0         0        0      0  \n",
            "4        0         0        0      0  \n",
            "\n",
            "[5 rows x 87 columns]\n"
          ]
        }
      ],
      "source": [
        "import pandas as pd\n",
        "\n",
        "# Load the dataset\n",
        "data_path = '/content/drive/MyDrive/fraud_data/tic_2000_train_data (2).csv'\n",
        "data = pd.read_csv(data_path)\n",
        "\n",
        "# Display the first few rows of the dataset\n",
        "print(data.head())\n",
        "\n"
      ]
    },
    {
      "cell_type": "markdown",
      "source": [
        "####Data Preprocessing and otlier detection"
      ],
      "metadata": {
        "id": "trGOmYDzM9up"
      }
    },
    {
      "cell_type": "code",
      "execution_count": 3,
      "metadata": {
        "colab": {
          "base_uri": "https://localhost:8080/"
        },
        "id": "-mdEIHankqfj",
        "outputId": "a44cc1f0-8460-4579-fffa-5311da14a22b"
      },
      "outputs": [
        {
          "output_type": "stream",
          "name": "stdout",
          "text": [
            "MOSTYPE     0\n",
            "MAANTHUI    0\n",
            "MGEMOMV     0\n",
            "MGEMLEEF    0\n",
            "MOSHOOFD    0\n",
            "           ..\n",
            "AFIETS      0\n",
            "AINBOED     0\n",
            "ABYSTAND    0\n",
            "CARAVAN     0\n",
            "fraud       0\n",
            "Length: 87, dtype: int64\n",
            "Shape of X: (4000, 86)\n",
            "Shape of y: (4000,)\n"
          ]
        }
      ],
      "source": [
        "from sklearn.preprocessing import LabelEncoder\n",
        "\n",
        "# Check for missing values\n",
        "print(data.isnull().sum())\n",
        "\n",
        "# Fill missing values or drop missing values\n",
        "# Here, we fill missing values with the median of the column\n",
        "data = data.fillna(data.median())\n",
        "\n",
        "# Encode categorical variables using LabelEncoder\n",
        "for column in data.columns:\n",
        "    if data[column].dtype == 'object':\n",
        "        le = LabelEncoder()\n",
        "        data[column] = le.fit_transform(data[column])\n",
        "\n",
        "# Separate features and target variable\n",
        "X = data.drop('fraud', axis=1)  # 'fraud' is the target variable\n",
        "y = data['fraud']\n",
        "\n",
        "print(\"Shape of X:\", X.shape)\n",
        "print(\"Shape of y:\", y.shape)\n"
      ]
    },
    {
      "cell_type": "markdown",
      "source": [
        "Claculating the count of Fraud Class"
      ],
      "metadata": {
        "id": "QMt6iH_ePHr2"
      }
    },
    {
      "cell_type": "code",
      "source": [
        "fraud_class = {0:'Not Fraud', 1:'Fraud'}\n",
        "print(data.fraud.value_counts().rename(index = fraud_class))"
      ],
      "metadata": {
        "colab": {
          "base_uri": "https://localhost:8080/"
        },
        "id": "P_lQhGY9cicK",
        "outputId": "e890bdeb-faea-45fd-e628-6c2ec2167b3a"
      },
      "execution_count": 4,
      "outputs": [
        {
          "output_type": "stream",
          "name": "stdout",
          "text": [
            "fraud\n",
            "Not Fraud    3762\n",
            "Fraud         238\n",
            "Name: count, dtype: int64\n"
          ]
        }
      ]
    },
    {
      "cell_type": "markdown",
      "source": [
        "####Selecting top Features"
      ],
      "metadata": {
        "id": "QdyPBGZ-PRmW"
      }
    },
    {
      "cell_type": "code",
      "source": [
        "all_features = data[]"
      ],
      "metadata": {
        "id": "tOXIDVA_5H5F"
      },
      "execution_count": null,
      "outputs": []
    },
    {
      "cell_type": "code",
      "execution_count": 5,
      "metadata": {
        "colab": {
          "base_uri": "https://localhost:8080/"
        },
        "id": "9SB5JeaTlI9O",
        "outputId": "cf8b9d74-5909-4167-d7d8-27a039557b09"
      },
      "outputs": [
        {
          "output_type": "stream",
          "name": "stdout",
          "text": [
            "Top Features:\n",
            "['PPERSAUT' 'MAUT2' 'PWAOREG' 'MINK123M' 'MOSTYPE' 'MBERBOER' 'PWERKT'\n",
            " 'PBRAND' 'MAUT1' 'PPERSONG' 'PVRAAUT' 'MBERMIDD' 'PBROM' 'AWERKT'\n",
            " 'ABRAND']\n"
          ]
        }
      ],
      "source": [
        "from sklearn.feature_selection import SelectKBest, chi2\n",
        "import pandas as pd\n",
        "\n",
        "# Apply SelectKBest to extract top 20 best features\n",
        "bestfeatures = SelectKBest(score_func=chi2, k=15)\n",
        "fit = bestfeatures.fit(X, y)\n",
        "\n",
        "dfscores = pd.DataFrame(fit.scores_)\n",
        "dfcolumns = pd.DataFrame(X.columns)\n",
        "\n",
        "# Concat two dataframes for better visualization\n",
        "featureScores = pd.concat([dfcolumns, dfscores], axis=1)\n",
        "featureScores.columns = ['Specs', 'Score']  # Naming the dataframe columns\n",
        "top_features = featureScores.nlargest(15, 'Score')['Specs'].values\n",
        "\n",
        "print(\"Top Features:\")\n",
        "print(top_features)\n",
        "\n"
      ]
    },
    {
      "cell_type": "markdown",
      "source": [
        "####Training the Decision tree Classification model"
      ],
      "metadata": {
        "id": "KlJpGCEzPaRY"
      }
    },
    {
      "cell_type": "code",
      "execution_count": 6,
      "metadata": {
        "colab": {
          "base_uri": "https://localhost:8080/"
        },
        "id": "uVKZKjx5lWDx",
        "outputId": "5c0643cb-6e59-49fc-eb25-b698f2e4c7e4"
      },
      "outputs": [
        {
          "output_type": "stream",
          "name": "stdout",
          "text": [
            "Accuracy: 0.8725\n",
            "Classification Report:\n",
            "               precision    recall  f1-score   support\n",
            "\n",
            "           0       0.95      0.92      0.93       760\n",
            "           1       0.02      0.03      0.02        40\n",
            "\n",
            "    accuracy                           0.87       800\n",
            "   macro avg       0.48      0.47      0.48       800\n",
            "weighted avg       0.90      0.87      0.89       800\n",
            "\n"
          ]
        }
      ],
      "source": [
        "from sklearn.tree import DecisionTreeClassifier\n",
        "from sklearn.model_selection import train_test_split\n",
        "from sklearn.metrics import accuracy_score, classification_report\n",
        "\n",
        "# Select the top features\n",
        "X_top = X[top_features]\n",
        "\n",
        "# Split the data\n",
        "X_train, X_test, y_train, y_test = train_test_split(X_top, y, test_size=0.2, random_state=42)\n",
        "\n",
        "# Train the Decision Tree classifier\n",
        "dtree = DecisionTreeClassifier()\n",
        "dtree.fit(X_train, y_train)\n",
        "\n",
        "# Make predictions\n",
        "y_pred = dtree.predict(X_test)\n",
        "\n",
        "# Evaluate the model\n",
        "accuracy = accuracy_score(y_test, y_pred)\n",
        "report = classification_report(y_test, y_pred)\n",
        "\n",
        "print(\"Accuracy:\", accuracy)\n",
        "print(\"Classification Report:\\n\", report)\n"
      ]
    },
    {
      "cell_type": "markdown",
      "source": [
        "Improving the decisionTreeClassifier Accuracy"
      ],
      "metadata": {
        "id": "b1FKokCdP1xa"
      }
    },
    {
      "cell_type": "code",
      "execution_count": 7,
      "metadata": {
        "colab": {
          "base_uri": "https://localhost:8080/"
        },
        "id": "TpNxIHdavtWi",
        "outputId": "f6cc43d7-2e25-4f7e-a45e-9e27d3f3142c"
      },
      "outputs": [
        {
          "output_type": "stream",
          "name": "stdout",
          "text": [
            "Fitting 5 folds for each of 108 candidates, totalling 540 fits\n",
            "Best parameters found:  {'criterion': 'entropy', 'max_depth': 10, 'min_samples_leaf': 4, 'min_samples_split': 10}\n",
            "Accuracy: 0.9425\n",
            "Classification Report:\n",
            "               precision    recall  f1-score   support\n",
            "\n",
            "           0       0.95      0.99      0.97       760\n",
            "           1       0.00      0.00      0.00        40\n",
            "\n",
            "    accuracy                           0.94       800\n",
            "   macro avg       0.47      0.50      0.49       800\n",
            "weighted avg       0.90      0.94      0.92       800\n",
            "\n"
          ]
        }
      ],
      "source": [
        "from sklearn.model_selection import GridSearchCV\n",
        "\n",
        "# Define the parameter grid\n",
        "param_grid = {\n",
        "    'criterion': ['gini', 'entropy'],\n",
        "    'max_depth': [None, 10, 20, 30, 40, 50],\n",
        "    'min_samples_split': [2, 5, 10],\n",
        "    'min_samples_leaf': [1, 2, 4]\n",
        "}\n",
        "\n",
        "# Initialize the GridSearchCV object\n",
        "grid_search = GridSearchCV(estimator=DecisionTreeClassifier(), param_grid=param_grid, cv=5, n_jobs=-1, verbose=2)\n",
        "\n",
        "# Fit the model\n",
        "grid_search.fit(X_train, y_train)\n",
        "\n",
        "# Best parameters\n",
        "print(\"Best parameters found: \", grid_search.best_params_)\n",
        "\n",
        "# Predict using the best model\n",
        "best_dtree = grid_search.best_estimator_\n",
        "y_pred = best_dtree.predict(X_test)\n",
        "\n",
        "# Evaluate the model\n",
        "accuracy = accuracy_score(y_test, y_pred)\n",
        "report = classification_report(y_test, y_pred)\n",
        "\n",
        "print(\"Accuracy:\", accuracy)\n",
        "print(\"Classification Report:\\n\", report)\n"
      ]
    },
    {
      "cell_type": "code",
      "execution_count": 8,
      "metadata": {
        "colab": {
          "base_uri": "https://localhost:8080/"
        },
        "id": "gYrVTZiyoxsQ",
        "outputId": "876de074-98dd-4a64-f213-67337e07ad5f"
      },
      "outputs": [
        {
          "output_type": "stream",
          "name": "stdout",
          "text": [
            "Model saved to decision_tree_model.pkl\n"
          ]
        }
      ],
      "source": [
        "import joblib\n",
        "\n",
        "model_path = 'decision_tree_model.pkl'\n",
        "joblib.dump(best_dtree, model_path)\n",
        "print(\"Model saved to\", model_path)\n"
      ]
    },
    {
      "cell_type": "markdown",
      "source": [
        "####Database setup"
      ],
      "metadata": {
        "id": "rJ_9XZ9iQFng"
      }
    },
    {
      "cell_type": "code",
      "execution_count": 9,
      "metadata": {
        "id": "3HsISZpgrwDK"
      },
      "outputs": [],
      "source": [
        "import sqlite3\n",
        "\n",
        "# Connect to SQLite database (or create it if it doesn't exist)\n",
        "conn = sqlite3.connect('claims_data.db')\n",
        "cursor = conn.cursor()\n",
        "\n",
        "# Create a table to store claims data\n",
        "cursor.execute('''\n",
        "CREATE TABLE IF NOT EXISTS claims (\n",
        "    id INTEGER PRIMARY KEY,\n",
        "    PPERSAUT INTEGER,\n",
        "    MAUT2 INTEGER,\n",
        "    PWAOREG INTEGER,\n",
        "    MINK123M INTEGER,\n",
        "    MOSTYPE INTEGER,\n",
        "    MBERBOER INTEGER,\n",
        "    PWERKT INTEGER,\n",
        "    PBRAND INTEGER,\n",
        "    MAUT1 INTEGER,\n",
        "    PPERSONG INTEGER,\n",
        "    PVRAAUT INTEGER,\n",
        "    MBERMIDD INTEGER,\n",
        "    PBROM INTEGER,\n",
        "    AWERKT INTEGER,\n",
        "    ABRAND INTEGER,\n",
        "    prediction TEXT\n",
        ")\n",
        "''')\n",
        "\n",
        "conn.commit()\n",
        "conn.close()\n",
        "\n"
      ]
    },
    {
      "cell_type": "markdown",
      "source": [
        "####Implementing Flask Application\n"
      ],
      "metadata": {
        "id": "blSN-d0gQPAn"
      }
    },
    {
      "cell_type": "code",
      "execution_count": 10,
      "metadata": {
        "colab": {
          "base_uri": "https://localhost:8080/"
        },
        "id": "2XMsYNq3QeiB",
        "outputId": "ec7b2400-836f-4ba5-aa89-2a0e3b5155ae"
      },
      "outputs": [
        {
          "output_type": "stream",
          "name": "stdout",
          "text": [
            "Collecting pyngrok\n",
            "  Downloading pyngrok-7.1.6-py3-none-any.whl (22 kB)\n",
            "Requirement already satisfied: PyYAML>=5.1 in /usr/local/lib/python3.10/dist-packages (from pyngrok) (6.0.1)\n",
            "Installing collected packages: pyngrok\n",
            "Successfully installed pyngrok-7.1.6\n"
          ]
        }
      ],
      "source": [
        "!pip install pyngrok\n",
        "\n"
      ]
    },
    {
      "cell_type": "code",
      "execution_count": 11,
      "metadata": {
        "colab": {
          "base_uri": "https://localhost:8080/"
        },
        "id": "QvfRcm9QR0I2",
        "outputId": "3884c6b6-081d-4b0f-f2bd-a9de69001c1d"
      },
      "outputs": [
        {
          "output_type": "stream",
          "name": "stdout",
          "text": []
        }
      ],
      "source": [
        "from pyngrok import ngrok\n",
        "\n",
        "ngrok.set_auth_token(\"2hnyVKjmoFzGwqMpib10EwM7Ody_7LTgqoNwiN5VQ47PV4X4n\")\n"
      ]
    },
    {
      "cell_type": "code",
      "execution_count": 21,
      "metadata": {
        "colab": {
          "base_uri": "https://localhost:8080/"
        },
        "id": "n7U9NCfzy-Rj",
        "outputId": "76c19162-51c9-4964-97f9-8301c9bacbee"
      },
      "outputs": [
        {
          "output_type": "stream",
          "name": "stdout",
          "text": [
            " * Tunnel URL: NgrokTunnel: \"https://7c24-34-81-52-75.ngrok-free.app\" -> \"http://localhost:5000\"\n",
            " * Serving Flask app '__main__'\n",
            " * Debug mode: off\n"
          ]
        },
        {
          "output_type": "stream",
          "name": "stderr",
          "text": [
            "INFO:werkzeug:\u001b[31m\u001b[1mWARNING: This is a development server. Do not use it in a production deployment. Use a production WSGI server instead.\u001b[0m\n",
            " * Running on http://127.0.0.1:5000\n",
            "INFO:werkzeug:\u001b[33mPress CTRL+C to quit\u001b[0m\n",
            "INFO:werkzeug:127.0.0.1 - - [26/Jun/2024 05:29:42] \"GET / HTTP/1.1\" 200 -\n",
            "INFO:werkzeug:127.0.0.1 - - [26/Jun/2024 05:29:43] \"\u001b[33mGET /favicon.ico HTTP/1.1\u001b[0m\" 404 -\n",
            "INFO:werkzeug:127.0.0.1 - - [26/Jun/2024 05:30:29] \"POST /predict HTTP/1.1\" 200 -\n"
          ]
        }
      ],
      "source": [
        "from flask import Flask, request, render_template, jsonify\n",
        "import pandas as pd\n",
        "import sqlite3\n",
        "import csv\n",
        "import joblib\n",
        "from pyngrok import ngrok\n",
        "\n",
        "app = Flask(__name__, template_folder='/content/drive/MyDrive/fraud_data/templates')\n",
        "\n",
        "# Path to your model file in Google Drive\n",
        "model_path = '/content/drive/MyDrive/fraud_data/decision_tree_model.pkl'\n",
        "\n",
        "# Load the trained model\n",
        "model = joblib.load(model_path)\n",
        "\n",
        "# Function to predict fraud\n",
        "def predict_fraud(input_data):\n",
        "    input_df = pd.DataFrame([input_data])\n",
        "    prediction = model.predict(input_df)\n",
        "    return 'Fraud' if prediction[0] == 1 else 'Not Fraud'\n",
        "\n",
        "# Home route to display the form\n",
        "@app.route('/')\n",
        "def home():\n",
        "    return render_template('index.html')\n",
        "\n",
        "# Route to handle form submission\n",
        "@app.route('/predict', methods=['POST'])\n",
        "def predict():\n",
        "    input_data = request.form.to_dict()\n",
        "\n",
        "    # Convert all form values to integers\n",
        "    input_data = {k: int(v) for k, v in input_data.items()}\n",
        "\n",
        "    prediction = predict_fraud(input_data)\n",
        "\n",
        "    # Save the input data and prediction to the database\n",
        "    conn = sqlite3.connect('/content/drive/MyDrive/claims_data (1).db')\n",
        "    c = conn.cursor()\n",
        "    c.execute('''\n",
        "        CREATE TABLE IF NOT EXISTS claims (\n",
        "            PPERSAUT INTEGER,\n",
        "            MAUT2 INTEGER,\n",
        "            PWAOREG INTEGER,\n",
        "            MINK123M INTEGER,\n",
        "            MOSTYPE INTEGER,\n",
        "            MBERBOER INTEGER,\n",
        "            PWERKT INTEGER,\n",
        "            PBRAND INTEGER,\n",
        "            MAUT1 INTEGER,\n",
        "            PPERSONG INTEGER,\n",
        "            PVRAAUT INTEGER,\n",
        "            MBERMIDD INTEGER,\n",
        "            PBROM INTEGER,\n",
        "            AWERKT INTEGER,\n",
        "            ABRAND INTEGER,\n",
        "            prediction TEXT\n",
        "        )\n",
        "    ''')\n",
        "    c.execute('''\n",
        "        INSERT INTO claims (PPERSAUT, MAUT2, PWAOREG, MINK123M, MOSTYPE, MBERBOER, PWERKT, PBRAND, MAUT1, PPERSONG, PVRAAUT, MBERMIDD, PBROM, AWERKT, ABRAND, prediction)\n",
        "        VALUES (?, ?, ?, ?, ?, ?, ?, ?, ?, ?, ?, ?, ?, ?, ?, ?)\n",
        "    ''', (input_data['PPERSAUT'], input_data['MAUT2'], input_data['PWAOREG'], input_data['MINK123M'], input_data['MOSTYPE'], input_data['MBERBOER'], input_data['PWERKT'], input_data['PBRAND'], input_data['MAUT1'], input_data['PPERSONG'], input_data['PVRAAUT'], input_data['MBERMIDD'], input_data['PBROM'], input_data['AWERKT'], input_data['ABRAND'], prediction))\n",
        "    conn.commit()\n",
        "    conn.close()\n",
        "\n",
        "    # Save the input data and prediction to a CSV file\n",
        "    with open('/content/drive/MyDrive/fraud_data/claims_data.csv', mode='a', newline='') as file:\n",
        "        writer = csv.writer(file)\n",
        "        writer.writerow([input_data['PPERSAUT'], input_data['MAUT2'], input_data['PWAOREG'], input_data['MINK123M'], input_data['MOSTYPE'], input_data['MBERBOER'], input_data['PWERKT'], input_data['PBRAND'], input_data['MAUT1'], input_data['PPERSONG'], input_data['PVRAAUT'], input_data['MBERMIDD'], input_data['PBROM'], input_data['AWERKT'], input_data['ABRAND'], prediction])\n",
        "\n",
        "    return render_template('result.html', prediction=prediction)\n",
        "\n",
        "if __name__ == \"__main__\":\n",
        "    # Start ngrok tunnel\n",
        "    public_url = ngrok.connect(5000)\n",
        "    print(\" * Tunnel URL:\", public_url)\n",
        "\n",
        "    app.run()\n",
        "\n"
      ]
    },
    {
      "cell_type": "code",
      "source": [],
      "metadata": {
        "id": "L9idPNcl2dl5"
      },
      "execution_count": null,
      "outputs": []
    },
    {
      "cell_type": "code",
      "source": [],
      "metadata": {
        "id": "pMGWBPdUg8s9"
      },
      "execution_count": null,
      "outputs": []
    },
    {
      "cell_type": "code",
      "source": [],
      "metadata": {
        "id": "-ZYlfhsAvAAB"
      },
      "execution_count": null,
      "outputs": []
    },
    {
      "cell_type": "code",
      "execution_count": null,
      "metadata": {
        "id": "3ZEjxv5RH73c"
      },
      "outputs": [],
      "source": []
    },
    {
      "cell_type": "code",
      "execution_count": null,
      "metadata": {
        "id": "u0hd2Z-4O9f4"
      },
      "outputs": [],
      "source": []
    },
    {
      "cell_type": "code",
      "execution_count": null,
      "metadata": {
        "id": "M-EU-wYtLbo9"
      },
      "outputs": [],
      "source": []
    },
    {
      "cell_type": "code",
      "execution_count": null,
      "metadata": {
        "id": "9TcbPiw-2QPq"
      },
      "outputs": [],
      "source": []
    },
    {
      "cell_type": "code",
      "execution_count": null,
      "metadata": {
        "id": "dSe5188_1wK9"
      },
      "outputs": [],
      "source": []
    },
    {
      "cell_type": "code",
      "execution_count": null,
      "metadata": {
        "id": "g_CkeYFE1R6q"
      },
      "outputs": [],
      "source": []
    },
    {
      "cell_type": "code",
      "execution_count": null,
      "metadata": {
        "id": "OQFszYTcWjTE"
      },
      "outputs": [],
      "source": []
    },
    {
      "cell_type": "code",
      "execution_count": null,
      "metadata": {
        "id": "-2hhAVMXVsax"
      },
      "outputs": [],
      "source": []
    },
    {
      "cell_type": "code",
      "execution_count": null,
      "metadata": {
        "id": "F9nAL62MVO4y"
      },
      "outputs": [],
      "source": []
    },
    {
      "cell_type": "code",
      "execution_count": null,
      "metadata": {
        "id": "upFqIimzUOMw"
      },
      "outputs": [],
      "source": []
    },
    {
      "cell_type": "code",
      "execution_count": null,
      "metadata": {
        "id": "1X90ngaaTYLk"
      },
      "outputs": [],
      "source": []
    },
    {
      "cell_type": "code",
      "execution_count": null,
      "metadata": {
        "id": "4cOkUpHFSR3U"
      },
      "outputs": [],
      "source": [
        "!python your_flask_app_file.py\n"
      ]
    },
    {
      "cell_type": "code",
      "execution_count": null,
      "metadata": {
        "id": "kHqYoWBnSm85"
      },
      "outputs": [],
      "source": []
    },
    {
      "cell_type": "code",
      "execution_count": null,
      "metadata": {
        "id": "cQKg65rmRWsv"
      },
      "outputs": [],
      "source": []
    },
    {
      "cell_type": "code",
      "execution_count": null,
      "metadata": {
        "id": "L7kw3POAQsMn"
      },
      "outputs": [],
      "source": []
    },
    {
      "cell_type": "code",
      "execution_count": null,
      "metadata": {
        "id": "qgB6aijLQfWD"
      },
      "outputs": [],
      "source": []
    },
    {
      "cell_type": "code",
      "execution_count": null,
      "metadata": {
        "id": "kVFDb9ozOv-J"
      },
      "outputs": [],
      "source": []
    },
    {
      "cell_type": "code",
      "execution_count": null,
      "metadata": {
        "id": "PCZh94FIL_I5"
      },
      "outputs": [],
      "source": []
    },
    {
      "cell_type": "code",
      "execution_count": null,
      "metadata": {
        "id": "GtRLH8qMXLjN"
      },
      "outputs": [],
      "source": []
    },
    {
      "cell_type": "code",
      "execution_count": null,
      "metadata": {
        "id": "Zs-uM0ECW5Yz"
      },
      "outputs": [],
      "source": []
    },
    {
      "cell_type": "code",
      "execution_count": null,
      "metadata": {
        "id": "079v4_EKWoJF"
      },
      "outputs": [],
      "source": []
    },
    {
      "cell_type": "code",
      "execution_count": null,
      "metadata": {
        "id": "20tDuwloYaUn"
      },
      "outputs": [],
      "source": []
    },
    {
      "cell_type": "code",
      "execution_count": null,
      "metadata": {
        "id": "X1zuHglSU1HP"
      },
      "outputs": [],
      "source": []
    },
    {
      "cell_type": "code",
      "execution_count": null,
      "metadata": {
        "id": "-5jAywzEUkUp"
      },
      "outputs": [],
      "source": []
    },
    {
      "cell_type": "code",
      "execution_count": null,
      "metadata": {
        "id": "Tr8VpPeEDRUd"
      },
      "outputs": [],
      "source": []
    },
    {
      "cell_type": "code",
      "execution_count": null,
      "metadata": {
        "id": "1_j-2k40DEKD"
      },
      "outputs": [],
      "source": []
    },
    {
      "cell_type": "code",
      "execution_count": null,
      "metadata": {
        "id": "yIk5UIqECH4d"
      },
      "outputs": [],
      "source": []
    },
    {
      "cell_type": "code",
      "execution_count": null,
      "metadata": {
        "id": "Ol-l7pFEB9-I"
      },
      "outputs": [],
      "source": []
    },
    {
      "cell_type": "code",
      "execution_count": null,
      "metadata": {
        "id": "iGKssXqJ_sEv"
      },
      "outputs": [],
      "source": []
    },
    {
      "cell_type": "code",
      "execution_count": null,
      "metadata": {
        "id": "Bv7ILNt0_Kwa"
      },
      "outputs": [],
      "source": []
    },
    {
      "cell_type": "code",
      "execution_count": null,
      "metadata": {
        "id": "q-_iqkxH-8g5"
      },
      "outputs": [],
      "source": []
    }
  ],
  "metadata": {
    "colab": {
      "provenance": []
    },
    "kernelspec": {
      "display_name": "Python 3",
      "name": "python3"
    },
    "language_info": {
      "name": "python"
    }
  },
  "nbformat": 4,
  "nbformat_minor": 0
}